{
 "cells": [
  {
   "cell_type": "code",
   "execution_count": 407,
   "metadata": {},
   "outputs": [],
   "source": [
    "import pandas as pd\n",
    "from collections import Counter\n",
    "from nltk import WordNetLemmatizer\n",
    "import re\n",
    "from nltk.corpus import stopwords"
   ]
  },
  {
   "cell_type": "code",
   "execution_count": 408,
   "metadata": {},
   "outputs": [],
   "source": [
    "df_triples = pd.read_csv(\n",
    "    '../../data/processed/reference_model_f/reference_model_f.txt', header=None, sep=\"\\t\"\n",
    ")\n",
    "\n",
    "df_triples = pd.DataFrame(\n",
    "    df_triples[0].str.split(\"|\", 4).tolist(),\n",
    "    columns=[\"status\", \"article_id\", \"e1\", \"r\", \"e2\"],\n",
    ")"
   ]
  },
  {
   "cell_type": "code",
   "execution_count": 409,
   "metadata": {},
   "outputs": [],
   "source": [
    "#df_triples = df_triples.groupby('article_id').head(10).reset_index(drop=True)"
   ]
  },
  {
   "cell_type": "code",
   "execution_count": 410,
   "metadata": {},
   "outputs": [],
   "source": [
    "def remove_stops(word):\n",
    "    if word.lower() in set(set(stopwords.words('english'))):\n",
    "        return ''\n",
    "    else:\n",
    "        return word"
   ]
  },
  {
   "cell_type": "code",
   "execution_count": 411,
   "metadata": {},
   "outputs": [],
   "source": [
    "def extract_entities(text):\n",
    "    res = []\n",
    "    for chunk in nltk.ne_chunk(nltk.pos_tag(nltk.word_tokenize(text))):\n",
    "        if hasattr(chunk, 'label') and chunk.label() == 'PERSON':\n",
    "            res.append((' '.join(c[0] for c in chunk.leaves())))\n",
    "    if len(res) == 0:\n",
    "        return text\n",
    "    else:\n",
    "        return res[0]"
   ]
  },
  {
   "cell_type": "code",
   "execution_count": 412,
   "metadata": {},
   "outputs": [],
   "source": [
    "lemmatizer = WordNetLemmatizer()\n",
    "df_triples[\"l1\"] = (\n",
    "    df_triples[\"e1\"]\n",
    "        .apply(lambda x: extract_entities(x))\n",
    "        .apply(lemmatizer.lemmatize)\n",
    "        .apply(lambda x: x.lower().strip())\n",
    "        .apply(remove_stops)\n",
    "        .apply(lambda x: re.sub(\"[^\\s'_A-Za-z]\", \"\", x))\n",
    "        .apply(lambda x: x.lstrip().rstrip())\n",
    ")\n",
    "df_triples[\"l2\"] = (\n",
    "    df_triples[\"e2\"]\n",
    "        .apply(lambda x: extract_entities(x))\n",
    "        .apply(lemmatizer.lemmatize)\n",
    "        .apply(lambda x: x.lower().strip())\n",
    "        .apply(remove_stops)\n",
    "        .apply(lambda x: re.sub(\"[^\\s'_A-Za-z]\", \"\", x))\n",
    "        .apply(lambda x: x.lstrip().rstrip())\n",
    ")\n",
    "df_triples[\"rel\"] = (\n",
    "    df_triples[\"r\"]\n",
    "        .apply(lemmatizer.lemmatize)\n",
    "        .apply(lambda x: x.lower().strip())\n",
    "        .apply(remove_stops)\n",
    "        .apply(lambda x: re.sub(\"[^\\s'_A-Za-z]\", \"\", x))\n",
    "        .apply(lambda x: x.lstrip().rstrip())\n",
    ")\n",
    "\n",
    "total_entities = pd.concat([df_triples[\"l1\"], df_triples[\"l2\"]])\n",
    "c = Counter(total_entities)\n",
    "un = Counter(el for el in c.elements() if c[el] > 3 and el != '')\n",
    "unique_entities = pd.Series(list(un.keys()))\n",
    "\n",
    "total_relations = pd.Series(df_triples[\"rel\"])\n",
    "rc = Counter(total_relations)\n",
    "unr = Counter(el for el in rc.elements() if rc[el] > 3 and el != '')\n",
    "unique_relations = pd.Series(list(unr.keys()))\n",
    "\n",
    "d = {\n",
    "    k: v for k, v in zip(unique_entities, [i for i in range(len(unique_entities))])\n",
    "}\n",
    "d_sorted = sorted(d.items(), key=lambda kv: kv[1])\n",
    "r = {\n",
    "    k: v\n",
    "    for k, v in zip(\n",
    "        unique_relations,\n",
    "        [i for i in range(len(unique_relations))],\n",
    "    )\n",
    "}\n",
    "r_sorted = sorted(r.items(), key=lambda kv: kv[1])"
   ]
  },
  {
   "cell_type": "code",
   "execution_count": 413,
   "metadata": {},
   "outputs": [],
   "source": [
    "df_fake = df_triples[df_triples['status'] == 'fake'].reset_index()\n",
    "df_true = df_triples[df_triples['status'] == 'true'].reset_index()"
   ]
  },
  {
   "cell_type": "code",
   "execution_count": 418,
   "metadata": {},
   "outputs": [],
   "source": [
    "r = Counter(df_fake['rel'])\n",
    "ents = Counter(pd.concat([df_fake['l1'], df_fake['l2']]))"
   ]
  },
  {
   "cell_type": "code",
   "execution_count": null,
   "metadata": {},
   "outputs": [],
   "source": [
    "len(df_fake.groupby('article_id'))"
   ]
  },
  {
   "cell_type": "code",
   "execution_count": 422,
   "metadata": {},
   "outputs": [
    {
     "data": {
      "text/plain": [
       "17743"
      ]
     },
     "execution_count": 422,
     "metadata": {},
     "output_type": "execute_result"
    }
   ],
   "source": [
    "sum(r.values())"
   ]
  },
  {
   "cell_type": "code",
   "execution_count": null,
   "metadata": {},
   "outputs": [],
   "source": []
  }
 ],
 "metadata": {
  "kernelspec": {
   "display_name": "Python 3",
   "language": "python",
   "name": "python3"
  },
  "language_info": {
   "codemirror_mode": {
    "name": "ipython",
    "version": 3
   },
   "file_extension": ".py",
   "mimetype": "text/x-python",
   "name": "python",
   "nbconvert_exporter": "python",
   "pygments_lexer": "ipython3",
   "version": "3.7.2"
  }
 },
 "nbformat": 4,
 "nbformat_minor": 2
}
